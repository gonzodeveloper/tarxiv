{
 "cells": [
  {
   "cell_type": "code",
   "execution_count": 3,
   "id": "bc2da68c-ad86-4342-b147-381ecb499933",
   "metadata": {},
   "outputs": [
    {
     "name": "stdout",
     "output_type": "stream",
     "text": [
      "2025-05-22 03:47:21,535 - tarxiv-gmail - INFO - {'status': 'initializing', 'module': 'tarxiv-gmail'}\n",
      "2025-05-22 03:47:21,535 - tarxiv-gmail - INFO - {'status': 'initializing', 'module': 'tarxiv-gmail'}\n",
      "2025-05-22 03:47:21,539 - tarxiv-gmail - INFO - {'status': 'connecting'}\n",
      "2025-05-22 03:47:21,539 - tarxiv-gmail - INFO - {'status': 'connecting'}\n",
      "2025-05-22 03:47:21,688 - tarxiv-gmail - INFO - {'status': 'connected'}\n",
      "2025-05-22 03:47:21,688 - tarxiv-gmail - INFO - {'status': 'connected'}\n"
     ]
    }
   ],
   "source": [
    "# First connect to Gmail client and read messages\n",
    "from tarxiv.alerts import Gmail\n",
    "\n",
    "txv_gmail = Gmail(\"../aux/\")"
   ]
  },
  {
   "cell_type": "code",
   "execution_count": 4,
   "id": "5f3c69d6-662e-453b-a2dd-ee85434c0d37",
   "metadata": {},
   "outputs": [
    {
     "data": {
      "text/plain": [
       "['2025lfs', '2025lft']"
      ]
     },
     "execution_count": 4,
     "metadata": {},
     "output_type": "execute_result"
    },
    {
     "name": "stderr",
     "output_type": "stream",
     "text": [
      "Exception in thread Thread-5 (_monitoring_thread):\n",
      "Traceback (most recent call last):\n",
      "  File \"/usr/lib/python3.12/threading.py\", line 1073, in _bootstrap_inner\n",
      "    self.run()\n",
      "  File \"/home/wintergreen/repo/venv/lib/python3.12/site-packages/ipykernel/ipkernel.py\", line 766, in run_closure\n",
      "    _threading_Thread_run(self)\n",
      "  File \"/usr/lib/python3.12/threading.py\", line 1010, in run\n",
      "    self._target(*self._args, **self._kwargs)\n",
      "  File \"/home/wintergreen/repo/venv/lib/python3.12/site-packages/tarxiv/alerts.py\", line 129, in _monitoring_thread\n",
      "    alerts = self.parse_message(message, service)\n",
      "             ^^^^^^^^^^^^^^^^^^^^^^^^^^^^^^^^^^^^\n",
      "  File \"/home/wintergreen/repo/venv/lib/python3.12/site-packages/tarxiv/alerts.py\", line 78, in parse_message\n",
      "    msg = service.users().messages().get(userId=\"me\", id=message[\"id\"]).execute()\n",
      "          ^^^^^^^^^^^^^^^^^^^^^^^^^^^^^^^^^^^^^^^^^^^^^^^^^^^^^^^^^^^^^^^^^^^^^^^\n",
      "  File \"/home/wintergreen/repo/venv/lib/python3.12/site-packages/googleapiclient/_helpers.py\", line 130, in positional_wrapper\n",
      "    return wrapped(*args, **kwargs)\n",
      "           ^^^^^^^^^^^^^^^^^^^^^^^^\n",
      "  File \"/home/wintergreen/repo/venv/lib/python3.12/site-packages/googleapiclient/http.py\", line 923, in execute\n",
      "    resp, content = _retry_request(\n",
      "                    ^^^^^^^^^^^^^^^\n",
      "  File \"/home/wintergreen/repo/venv/lib/python3.12/site-packages/googleapiclient/http.py\", line 222, in _retry_request\n",
      "    raise exception\n",
      "  File \"/home/wintergreen/repo/venv/lib/python3.12/site-packages/googleapiclient/http.py\", line 191, in _retry_request\n",
      "    resp, content = http.request(uri, method, *args, **kwargs)\n",
      "                    ^^^^^^^^^^^^^^^^^^^^^^^^^^^^^^^^^^^^^^^^^^\n",
      "  File \"/home/wintergreen/repo/venv/lib/python3.12/site-packages/google_auth_httplib2.py\", line 218, in request\n",
      "    response, content = self.http.request(\n",
      "                        ^^^^^^^^^^^^^^^^^^\n",
      "  File \"/home/wintergreen/repo/venv/lib/python3.12/site-packages/httplib2/__init__.py\", line 1724, in request\n",
      "    (response, content) = self._request(\n",
      "                          ^^^^^^^^^^^^^^\n",
      "  File \"/home/wintergreen/repo/venv/lib/python3.12/site-packages/httplib2/__init__.py\", line 1444, in _request\n",
      "    (response, content) = self._conn_request(conn, request_uri, method, body, headers)\n",
      "                          ^^^^^^^^^^^^^^^^^^^^^^^^^^^^^^^^^^^^^^^^^^^^^^^^^^^^^^^^^^^^\n",
      "  File \"/home/wintergreen/repo/venv/lib/python3.12/site-packages/httplib2/__init__.py\", line 1396, in _conn_request\n",
      "    response = conn.getresponse()\n",
      "               ^^^^^^^^^^^^^^^^^^\n",
      "  File \"/usr/lib/python3.12/http/client.py\", line 1428, in getresponse\n",
      "    response.begin()\n",
      "  File \"/usr/lib/python3.12/http/client.py\", line 331, in begin\n",
      "    version, status, reason = self._read_status()\n",
      "                              ^^^^^^^^^^^^^^^^^^^\n",
      "  File \"/usr/lib/python3.12/http/client.py\", line 292, in _read_status\n",
      "    line = str(self.fp.readline(_MAXLINE + 1), \"iso-8859-1\")\n",
      "               ^^^^^^^^^^^^^^^^^^^^^^^^^^^^^^\n",
      "  File \"/usr/lib/python3.12/socket.py\", line 707, in readinto\n",
      "    return self._sock.recv_into(b)\n",
      "           ^^^^^^^^^^^^^^^^^^^^^^^\n",
      "  File \"/usr/lib/python3.12/ssl.py\", line 1252, in recv_into\n",
      "    return self.read(nbytes, buffer)\n",
      "           ^^^^^^^^^^^^^^^^^^^^^^^^^\n",
      "  File \"/usr/lib/python3.12/ssl.py\", line 1104, in read\n",
      "    return self._sslobj.read(len, buffer)\n",
      "           ^^^^^^^^^^^^^^^^^^^^^^^^^^^^^^\n",
      "TimeoutError: The read operation timed out\n"
     ]
    }
   ],
   "source": [
    "# Start the monitoring tread and poll a message\n",
    "txv_gmail.monitor_notices()\n",
    "message, alerts = txv_gmail.poll(timeout=5)\n",
    "alerts"
   ]
  },
  {
   "cell_type": "code",
   "execution_count": 5,
   "id": "44e933af-73f3-4445-82c1-a87dee54e7b6",
   "metadata": {},
   "outputs": [
    {
     "name": "stdout",
     "output_type": "stream",
     "text": [
      "2025-05-22 03:47:24,112 - tns - INFO - {'status': 'initializing', 'module': 'tns'}\n"
     ]
    },
    {
     "data": {
      "text/plain": [
       "{'identifiers': {'name': '2025lfs', 'source': 0},\n",
       " 'ra_deg': {'value': 94.11005, 'source': 0},\n",
       " 'dec_deg': {'value': -36.56585, 'source': 0},\n",
       " 'ra_hms': {'value': '06:16:26.412', 'source': 0},\n",
       " 'dec_dms': {'value': '-36:33:57.06', 'source': 0},\n",
       " 'object_type': [{'value': 'AT', 'source': 0}, {'value': None, 'source': 0}],\n",
       " 'discovery_date': {'value': '2025-05-21 22:52:33.888', 'source': 0},\n",
       " 'reporting_group': {'value': 'ATLAS', 'source': 0},\n",
       " 'discovery_data_source': {'value': 'ATLAS', 'source': 0}}"
      ]
     },
     "execution_count": 5,
     "metadata": {},
     "output_type": "execute_result"
    }
   ],
   "source": [
    "# Get information from lightcurve surveys\n",
    "from tarxiv.data_sources import TNS, ATLAS, ASAS_SN, ZTF\n",
    "\n",
    "# First query TNS\n",
    "txv_tns = TNS(\"../aux\")\n",
    "tns_meta, _ = txv_tns.get_object(alerts[0])\n",
    "tns_meta\n"
   ]
  },
  {
   "cell_type": "code",
   "execution_count": 6,
   "id": "176ada5c-81ac-4ff2-a10a-bc9a3bec3878",
   "metadata": {},
   "outputs": [
    {
     "name": "stdout",
     "output_type": "stream",
     "text": [
      "2025-05-22 03:47:29,403 - atlas - INFO - {'status': 'initializing', 'module': 'atlas'}\n"
     ]
    },
    {
     "data": {
      "text/plain": [
       "({'identifiers': [{'name': 1061626420363357300, 'source': 1},\n",
       "   {'name': 'ATLAS25fet', 'source': 2}]},\n",
       "             mjd     mag  mag_err  limit filter unit survey\n",
       " 0  60816.953179  18.466    0.189  18.47      c  04a  ATLAS\n",
       " 1  60816.956373  18.563    0.170  18.61      c  04a  ATLAS\n",
       " 2  60816.975237  18.714    0.140  19.08      c  04a  ATLAS)"
      ]
     },
     "execution_count": 6,
     "metadata": {},
     "output_type": "execute_result"
    }
   ],
   "source": [
    "# Now ATLAS\n",
    "txv_atlas = ATLAS(\"../aux\")\n",
    "atlas_meta, atlas_lc = txv_atlas.get_object(tns_meta[\"ra_deg\"][\"value\"], tns_meta[\"dec_deg\"][\"value\"])\n",
    "atlas_meta, atlas_lc"
   ]
  },
  {
   "cell_type": "code",
   "execution_count": 7,
   "id": "a6d0133a-61e3-49a2-89aa-72dc3caf5976",
   "metadata": {},
   "outputs": [
    {
     "data": {
      "text/plain": [
       "({'identifiers': [{'name': 1125906141284842600, 'source': 1},\n",
       "   {'name': 'ATLAS24hhy', 'source': 2}],\n",
       "  'redshift': {'value': 0.0032657735, 'source': 7}},\n",
       "                mjd     mag  mag_err  limit filter unit survey\n",
       " 0     60445.386132  13.442    0.003  19.35      o  02a  ATLAS\n",
       " 1     60445.386132  13.396    0.005  19.35      o  02a  ATLAS\n",
       " 2     60445.389294  13.438    0.003  19.39      o  02a  ATLAS\n",
       " 3     60445.389294  13.394    0.005  19.39      o  02a  ATLAS\n",
       " 4     60445.396294  13.394    0.005  19.33      o  02a  ATLAS\n",
       " ...            ...     ...      ...    ...    ...  ...    ...\n",
       " 1584  60791.436982  19.433    0.196  19.53      c  01a  ATLAS\n",
       " 1585  60792.414882  19.438    0.193  19.56      c  01a  ATLAS\n",
       " 1586  60793.408979  19.249    0.170  19.52      o  02a  ATLAS\n",
       " 1587  60798.385497  19.229    0.190  19.34      o  02a  ATLAS\n",
       " 1588  60799.331820  19.228    0.191  19.43      o  01a  ATLAS\n",
       " \n",
       " [1589 rows x 7 columns])"
      ]
     },
     "execution_count": 7,
     "metadata": {},
     "output_type": "execute_result"
    }
   ],
   "source": [
    "# Usually the surveys wont have imediate data for new sources, so lets try an old one\n",
    "obj_name = \"2024iss\"\n",
    "\n",
    "tns_meta, _ = txv_tns.get_object(obj_name)\n",
    "atlas_meta, atlas_lc = txv_atlas.get_object(tns_meta[\"ra_deg\"][\"value\"], tns_meta[\"dec_deg\"][\"value\"])\n",
    "atlas_meta, atlas_lc"
   ]
  },
  {
   "cell_type": "code",
   "execution_count": 8,
   "id": "9f110d65-57ad-4184-aef9-edeed977d954",
   "metadata": {},
   "outputs": [
    {
     "name": "stdout",
     "output_type": "stream",
     "text": [
      "2025-05-22 03:48:31,633 - ztf - INFO - {'status': 'initializing', 'module': 'ztf'}\n"
     ]
    },
    {
     "data": {
      "text/plain": [
       "({'identifiers': [{'name': 'ZTF24aankvcy', 'source': 3}],\n",
       "  'host_name': [{'name': 'PGC1846725', 'source': 8}]},\n",
       "           mag   mag_err filter      limit           mjd  unit survey\n",
       " 0   18.897097  0.145049      R  19.549927  60744.423125  main    ZTF\n",
       " 1   19.451320  0.138804      g  20.457413  60727.413310  main    ZTF\n",
       " 2   19.464533  0.151103      g  20.038042  60725.383079  main    ZTF\n",
       " 3   18.210833  0.179195      R  18.493570  60710.433021  main    ZTF\n",
       " 4   18.801170  0.145244      g  19.480152  60691.477963  main    ZTF\n",
       " 5   18.898743  0.172329      g  19.402090  60687.495637  main    ZTF\n",
       " 6   18.774036  0.120490      g  20.031698  60684.473877  main    ZTF\n",
       " 7   18.769524  0.093810      g  20.107847  60682.404248  main    ZTF\n",
       " 8   18.717860  0.124860      g  19.510712  60678.509514  main    ZTF\n",
       " 9   18.593317  0.080440      g  20.498440  60676.472431  main    ZTF\n",
       " 10  18.609062  0.069879      g  20.703398  60674.540509  main    ZTF\n",
       " 11  18.492628  0.106843      g  19.769285  60664.466331  main    ZTF\n",
       " 12  18.209372  0.064977      g  20.035765  60652.485370  main    ZTF\n",
       " 13  18.206957  0.064740      g  20.345774  60650.543611  main    ZTF\n",
       " 14  18.034790  0.070588      g  20.030571  60640.517766  main    ZTF\n",
       " 15  17.977156  0.059116      g  19.802692  60637.487257  main    ZTF\n",
       " 16  17.877325  0.075021      g  19.349758  60634.487269  main    ZTF\n",
       " 17  17.005772  0.047299      R  19.107323  60613.537060  main    ZTF\n",
       " 18  16.972889  0.049412      R  19.262629  60613.531111  main    ZTF\n",
       " 19  15.562697  0.025970      g  20.468178  60494.195602  main    ZTF\n",
       " 20  15.366330  0.033453      g  20.541569  60486.216713  main    ZTF\n",
       " 21  15.320426  0.024425      g  19.537622  60484.260498  main    ZTF\n",
       " 22  15.265226  0.031553      g  19.897590  60482.196042  main    ZTF\n",
       " 23  14.167648  0.022556      R  18.972857  60480.330613  main    ZTF\n",
       " 24  15.134685  0.027240      g  19.912357  60480.204294  main    ZTF\n",
       " 25  14.943040  0.019399      g  19.814909  60477.211898  main    ZTF\n",
       " 26  14.756750  0.018296      g  19.818043  60475.208808  main    ZTF\n",
       " 27  14.591572  0.025147      g  20.285032  60473.195764  main    ZTF)"
      ]
     },
     "execution_count": 8,
     "metadata": {},
     "output_type": "execute_result"
    }
   ],
   "source": [
    "# Now try ZTF\n",
    "txv_ztf = ZTF(\"../aux/\")\n",
    "ztf_meta, ztf_lc = txv_ztf.get_object(tns_meta[\"ra_deg\"][\"value\"], tns_meta[\"dec_deg\"][\"value\"])\n",
    "ztf_meta, ztf_lc"
   ]
  },
  {
   "cell_type": "code",
   "execution_count": 9,
   "id": "048c145c-a795-4841-b7d5-132bef631caf",
   "metadata": {},
   "outputs": [
    {
     "name": "stdout",
     "output_type": "stream",
     "text": [
      "2025-05-22 03:48:34,848 - asas-sn - INFO - {'status': 'initializing', 'module': 'asas-sn'}\n"
     ]
    },
    {
     "data": {
      "text/plain": [
       "({'identifiers': [{'name': '661432306681', 'source': 6}]},\n",
       "                mjd        mag   mag_err      limit filter unit   survey\n",
       " 0     55954.627881  17.142907  0.064420  18.463458      V   ba  ASAS-SN\n",
       " 2     55973.573170  17.350041  0.081465  18.415723      V   ba  ASAS-SN\n",
       " 4     55997.503673  17.072510  0.171802  17.328043      V   ba  ASAS-SN\n",
       " 5     56002.484148  17.014979  0.076740  18.145526      V   ba  ASAS-SN\n",
       " 7     56310.663657  17.864528  0.187629  18.024385      V   ba  ASAS-SN\n",
       " ...            ...        ...       ...        ...    ...  ...      ...\n",
       " 1269  60652.662725  17.146767  0.182440  17.337075      g   bC  ASAS-SN\n",
       " 1270  60672.569723  16.952787  0.060671  18.338434      g   bC  ASAS-SN\n",
       " 1272  60697.541289  17.015819  0.076828  18.145123      g   bC  ASAS-SN\n",
       " 1273  60700.068149  17.048765  0.099793  17.894120      g   bo  ASAS-SN\n",
       " 1274  60708.496762  17.482445  0.092797  18.406711      g   bs  ASAS-SN\n",
       " \n",
       " [895 rows x 7 columns])"
      ]
     },
     "execution_count": 9,
     "metadata": {},
     "output_type": "execute_result"
    }
   ],
   "source": [
    "# Now try ASAS-SN (will need to update asas-sn transient pipeline, low hits currently)\n",
    "txv_asas_sn = ASAS_SN(\"../aux/\")\n",
    "asas_sn_meta, asas_sn_lc = txv_asas_sn.get_object(tns_meta[\"ra_deg\"][\"value\"], tns_meta[\"dec_deg\"][\"value\"])\n",
    "asas_sn_meta, asas_sn_lc"
   ]
  },
  {
   "cell_type": "code",
   "execution_count": 10,
   "id": "51852c9b-43e7-474d-8f74-c036178740f1",
   "metadata": {},
   "outputs": [
    {
     "name": "stdout",
     "output_type": "stream",
     "text": [
      "2025-05-22 03:48:44,697 - tarxiv-couchbase - INFO - {'status': 'initializing', 'module': 'tarxiv-couchbase'}\n",
      "2025-05-22 03:48:44,699 - tarxiv-couchbase - INFO - connecting to couchbase\n",
      "2025-05-22 03:48:44,741 - tarxiv-couchbase - INFO - connected\n"
     ]
    },
    {
     "data": {
      "text/plain": [
       "{'schema': 'https://github.com/astrocatalogs/schema/README.md',\n",
       " 'sources': [],\n",
       " 'identifiers': [],\n",
       " 'ra_deg': [],\n",
       " 'dec_deg': [],\n",
       " 'ra_hms': [],\n",
       " 'dec_dms': [],\n",
       " 'object_type': [],\n",
       " 'discovery_date': [],\n",
       " 'reporting_group': [],\n",
       " 'discovery_data_source': [],\n",
       " 'redshift': [],\n",
       " 'host_name': [],\n",
       " 'peak_mag': []}"
      ]
     },
     "execution_count": 10,
     "metadata": {},
     "output_type": "execute_result"
    }
   ],
   "source": [
    "# Now we want to push this to the database\n",
    "from tarxiv.database import TarxivDB\n",
    "txv_db = TarxivDB(\"../aux/\")\n",
    "\n",
    "# First get the insertion scheme\n",
    "schema = txv_db.get_object_schema()\n",
    "schema"
   ]
  },
  {
   "cell_type": "code",
   "execution_count": 11,
   "id": "65bb8e0c-be09-4e8c-99b0-72ff71196292",
   "metadata": {},
   "outputs": [
    {
     "data": {
      "text/plain": [
       "{'schema': 'https://github.com/astrocatalogs/schema/README.md',\n",
       " 'sources': [{'name': 'tns',\n",
       "   'bibcode': '2021AAS...23742305G',\n",
       "   'reference': 'Gal-Yam et al. 2021',\n",
       "   'alias': 0},\n",
       "  {'name': 'atlas_twb',\n",
       "   'bibcode': '2020PASP..132h5002S',\n",
       "   'reference': 'Smith et al. 2020',\n",
       "   'alias': 1},\n",
       "  {'name': 'atlas_survey',\n",
       "   'bibcode': '2018PASP..130f4505T',\n",
       "   'reference': 'Tonry et al. 2018',\n",
       "   'alias': 2},\n",
       "  {'name': 'sherlock',\n",
       "   'bibcode': '10.5281/zenodo.8038057',\n",
       "   'reference': 'Young et al. 2023',\n",
       "   'alias': 7},\n",
       "  {'name': 'ztf_survey',\n",
       "   'bibcode': '2019PASP..131a8002B',\n",
       "   'reference': 'Belim et al. 2019',\n",
       "   'alias': 3},\n",
       "  {'name': 'fink',\n",
       "   'bibcode': '2021MNRAS.501.3272M',\n",
       "   'reference': 'Möller et al. 2020',\n",
       "   'alias': 4},\n",
       "  {'name': 'mangrove',\n",
       "   'bibcode': '2020MNRAS.492.4768D',\n",
       "   'reference': 'Ducoin et al. 2020',\n",
       "   'alias': 8},\n",
       "  {'name': 'asas-sn_survey',\n",
       "   'bibcode': '2014ApJ...788...48S',\n",
       "   'reference': 'Shappee et al. 2014',\n",
       "   'alias': 5},\n",
       "  {'name': 'asas-sn_skypatrol',\n",
       "   'bibcode': '2023arXiv230403791H',\n",
       "   'reference': 'Hart et al. 2023',\n",
       "   'alias': 6}],\n",
       " 'identifiers': [{'name': '2024iss', 'source': 0},\n",
       "  {'name': 1125906141284842600, 'source': 1},\n",
       "  {'name': 'ATLAS24hhy', 'source': 2},\n",
       "  {'name': 'ZTF24aankvcy', 'source': 3},\n",
       "  {'name': '661432306681', 'source': 6}],\n",
       " 'ra_deg': [{'value': 194.775542, 'source': 0}],\n",
       " 'dec_deg': [{'value': 28.811839, 'source': 0}],\n",
       " 'ra_hms': [{'value': '12:59:06.130', 'source': 0}],\n",
       " 'dec_dms': [{'value': '+28:48:42.62', 'source': 0}],\n",
       " 'object_type': [{'value': 'SN', 'source': 0},\n",
       "  {'value': 'SN IIb', 'source': 0}],\n",
       " 'discovery_date': [{'value': '2024-05-12 21:36:45.792', 'source': 0}],\n",
       " 'reporting_group': [{'value': 'GOTO', 'source': 0}],\n",
       " 'discovery_data_source': [{'value': 'GOTO', 'source': 0}],\n",
       " 'redshift': [{'value': 0.003334, 'source': 0},\n",
       "  {'value': 0.0032657735, 'source': 7}],\n",
       " 'host_name': [{'name': 'PGC1846725', 'source': 8}],\n",
       " 'peak_mag': [{'filter': 'R',\n",
       "   'value': 14.167648,\n",
       "   'mjd_recorded': 60480.330613399856,\n",
       "   'source': 3},\n",
       "  {'filter': 'V',\n",
       "   'value': 16.08164818723351,\n",
       "   'mjd_recorded': 55954.627881099936,\n",
       "   'source': 5},\n",
       "  {'filter': 'c',\n",
       "   'value': 17.415,\n",
       "   'mjd_recorded': 60641.63244975,\n",
       "   'source': 2},\n",
       "  {'filter': 'g',\n",
       "   'value': 13.506078757685941,\n",
       "   'mjd_recorded': 58099.44114479981,\n",
       "   'source': 5},\n",
       "  {'filter': 'o',\n",
       "   'value': 13.058,\n",
       "   'mjd_recorded': 60445.38613205,\n",
       "   'source': 2}]}"
      ]
     },
     "execution_count": 11,
     "metadata": {},
     "output_type": "execute_result"
    }
   ],
   "source": [
    "# Now we populate this schema with our survey information\n",
    "obj_meta = txv_tns.update_object_meta(schema, tns_meta)\n",
    "obj_meta = txv_atlas.update_object_meta(obj_meta, atlas_meta)\n",
    "obj_meta = txv_ztf.update_object_meta(obj_meta, ztf_meta)\n",
    "obj_meta = txv_asas_sn.update_object_meta(obj_meta, asas_sn_meta)\n",
    "\n",
    "# Colate lightcurves and add peak mag measurements to schema\n",
    "import pandas as pd\n",
    "lc_df = pd.concat([atlas_lc, ztf_lc, asas_sn_lc])\n",
    "\n",
    "# Add peak magnitudes to meta\n",
    "obj_meta = txv_tns.meta_add_peak_mags(obj_meta, lc_df)\n",
    "obj_meta"
   ]
  },
  {
   "cell_type": "code",
   "execution_count": 12,
   "id": "a748b7aa-3eb0-40bc-a94c-734095e8a8b5",
   "metadata": {},
   "outputs": [
    {
     "data": {
      "text/plain": [
       "[{'mjd': 60445.38613205,\n",
       "  'mag': 13.442,\n",
       "  'mag_err': 0.003,\n",
       "  'limit': 19.35,\n",
       "  'filter': 'o',\n",
       "  'unit': '02a',\n",
       "  'survey': 'ATLAS'},\n",
       " {'mjd': 60445.38613205,\n",
       "  'mag': 13.396,\n",
       "  'mag_err': 0.005,\n",
       "  'limit': 19.35,\n",
       "  'filter': 'o',\n",
       "  'unit': '02a',\n",
       "  'survey': 'ATLAS'},\n",
       " {'mjd': 60445.38929445,\n",
       "  'mag': 13.438,\n",
       "  'mag_err': 0.003,\n",
       "  'limit': 19.39,\n",
       "  'filter': 'o',\n",
       "  'unit': '02a',\n",
       "  'survey': 'ATLAS'},\n",
       " {'mjd': 60445.38929445,\n",
       "  'mag': 13.394,\n",
       "  'mag_err': 0.005,\n",
       "  'limit': 19.39,\n",
       "  'filter': 'o',\n",
       "  'unit': '02a',\n",
       "  'survey': 'ATLAS'},\n",
       " {'mjd': 60445.39629385,\n",
       "  'mag': 13.394,\n",
       "  'mag_err': 0.005,\n",
       "  'limit': 19.33,\n",
       "  'filter': 'o',\n",
       "  'unit': '02a',\n",
       "  'survey': 'ATLAS'}]"
      ]
     },
     "execution_count": 12,
     "metadata": {},
     "output_type": "execute_result"
    }
   ],
   "source": [
    "# Convert to json for submission\n",
    "obj_lc = lc_df.to_dict(orient=\"records\")\n",
    "obj_lc[:5]"
   ]
  },
  {
   "cell_type": "code",
   "execution_count": 13,
   "id": "4ed17aca-8dd1-46eb-8c4a-89bca5919aa5",
   "metadata": {},
   "outputs": [
    {
     "data": {
      "text/plain": [
       "[{'mjd': 60652.662725199945,\n",
       "  'mag': 17.14676732419121,\n",
       "  'mag_err': 0.18243957969633454,\n",
       "  'limit': 17.33707508737741,\n",
       "  'filter': 'g',\n",
       "  'unit': 'bC',\n",
       "  'survey': 'ASAS-SN'},\n",
       " {'mjd': 60672.56972299982,\n",
       "  'mag': 16.952787419187427,\n",
       "  'mag_err': 0.06067130961284383,\n",
       "  'limit': 18.338434416349553,\n",
       "  'filter': 'g',\n",
       "  'unit': 'bC',\n",
       "  'survey': 'ASAS-SN'},\n",
       " {'mjd': 60697.54128880007,\n",
       "  'mag': 17.01581859686997,\n",
       "  'mag_err': 0.07682814843845448,\n",
       "  'limit': 18.14512310066781,\n",
       "  'filter': 'g',\n",
       "  'unit': 'bC',\n",
       "  'survey': 'ASAS-SN'},\n",
       " {'mjd': 60700.06814889982,\n",
       "  'mag': 17.048765240426548,\n",
       "  'mag_err': 0.09979303561155477,\n",
       "  'limit': 17.894120077067562,\n",
       "  'filter': 'g',\n",
       "  'unit': 'bo',\n",
       "  'survey': 'ASAS-SN'},\n",
       " {'mjd': 60708.49676229991,\n",
       "  'mag': 17.482445066947744,\n",
       "  'mag_err': 0.09279739833409015,\n",
       "  'limit': 18.40671098644738,\n",
       "  'filter': 'g',\n",
       "  'unit': 'bs',\n",
       "  'survey': 'ASAS-SN'}]"
      ]
     },
     "execution_count": 13,
     "metadata": {},
     "output_type": "execute_result"
    }
   ],
   "source": [
    "# Push to database\n",
    "txv_db.upsert(\"2024iss\", obj_meta, \"tns_objects\")\n",
    "txv_db.upsert(\"2024iss\", obj_lc, \"tns_lightcurves\")\n",
    "\n",
    "# Rertrieve both\n",
    "res = txv_db.get(\"2024iss\", \"tns_lightcurves\")\n",
    "res[-5:]"
   ]
  },
  {
   "cell_type": "code",
   "execution_count": 14,
   "id": "c82023c1-c597-4e8e-af95-db74df2d0daa",
   "metadata": {},
   "outputs": [
    {
     "data": {
      "text/html": [
       "<div>\n",
       "<style scoped>\n",
       "    .dataframe tbody tr th:only-of-type {\n",
       "        vertical-align: middle;\n",
       "    }\n",
       "\n",
       "    .dataframe tbody tr th {\n",
       "        vertical-align: top;\n",
       "    }\n",
       "\n",
       "    .dataframe thead th {\n",
       "        text-align: right;\n",
       "    }\n",
       "</style>\n",
       "<table border=\"1\" class=\"dataframe\">\n",
       "  <thead>\n",
       "    <tr style=\"text-align: right;\">\n",
       "      <th></th>\n",
       "      <th>mjd</th>\n",
       "      <th>mag</th>\n",
       "      <th>mag_err</th>\n",
       "      <th>limit</th>\n",
       "      <th>filter</th>\n",
       "      <th>unit</th>\n",
       "      <th>survey</th>\n",
       "    </tr>\n",
       "  </thead>\n",
       "  <tbody>\n",
       "    <tr>\n",
       "      <th>0</th>\n",
       "      <td>60445.386132</td>\n",
       "      <td>13.442000</td>\n",
       "      <td>0.003000</td>\n",
       "      <td>19.350000</td>\n",
       "      <td>o</td>\n",
       "      <td>02a</td>\n",
       "      <td>ATLAS</td>\n",
       "    </tr>\n",
       "    <tr>\n",
       "      <th>1</th>\n",
       "      <td>60445.386132</td>\n",
       "      <td>13.396000</td>\n",
       "      <td>0.005000</td>\n",
       "      <td>19.350000</td>\n",
       "      <td>o</td>\n",
       "      <td>02a</td>\n",
       "      <td>ATLAS</td>\n",
       "    </tr>\n",
       "    <tr>\n",
       "      <th>2</th>\n",
       "      <td>60445.389294</td>\n",
       "      <td>13.438000</td>\n",
       "      <td>0.003000</td>\n",
       "      <td>19.390000</td>\n",
       "      <td>o</td>\n",
       "      <td>02a</td>\n",
       "      <td>ATLAS</td>\n",
       "    </tr>\n",
       "    <tr>\n",
       "      <th>3</th>\n",
       "      <td>60445.389294</td>\n",
       "      <td>13.394000</td>\n",
       "      <td>0.005000</td>\n",
       "      <td>19.390000</td>\n",
       "      <td>o</td>\n",
       "      <td>02a</td>\n",
       "      <td>ATLAS</td>\n",
       "    </tr>\n",
       "    <tr>\n",
       "      <th>4</th>\n",
       "      <td>60445.396294</td>\n",
       "      <td>13.394000</td>\n",
       "      <td>0.005000</td>\n",
       "      <td>19.330000</td>\n",
       "      <td>o</td>\n",
       "      <td>02a</td>\n",
       "      <td>ATLAS</td>\n",
       "    </tr>\n",
       "    <tr>\n",
       "      <th>...</th>\n",
       "      <td>...</td>\n",
       "      <td>...</td>\n",
       "      <td>...</td>\n",
       "      <td>...</td>\n",
       "      <td>...</td>\n",
       "      <td>...</td>\n",
       "      <td>...</td>\n",
       "    </tr>\n",
       "    <tr>\n",
       "      <th>1269</th>\n",
       "      <td>60652.662725</td>\n",
       "      <td>17.146767</td>\n",
       "      <td>0.182440</td>\n",
       "      <td>17.337075</td>\n",
       "      <td>g</td>\n",
       "      <td>bC</td>\n",
       "      <td>ASAS-SN</td>\n",
       "    </tr>\n",
       "    <tr>\n",
       "      <th>1270</th>\n",
       "      <td>60672.569723</td>\n",
       "      <td>16.952787</td>\n",
       "      <td>0.060671</td>\n",
       "      <td>18.338434</td>\n",
       "      <td>g</td>\n",
       "      <td>bC</td>\n",
       "      <td>ASAS-SN</td>\n",
       "    </tr>\n",
       "    <tr>\n",
       "      <th>1272</th>\n",
       "      <td>60697.541289</td>\n",
       "      <td>17.015819</td>\n",
       "      <td>0.076828</td>\n",
       "      <td>18.145123</td>\n",
       "      <td>g</td>\n",
       "      <td>bC</td>\n",
       "      <td>ASAS-SN</td>\n",
       "    </tr>\n",
       "    <tr>\n",
       "      <th>1273</th>\n",
       "      <td>60700.068149</td>\n",
       "      <td>17.048765</td>\n",
       "      <td>0.099793</td>\n",
       "      <td>17.894120</td>\n",
       "      <td>g</td>\n",
       "      <td>bo</td>\n",
       "      <td>ASAS-SN</td>\n",
       "    </tr>\n",
       "    <tr>\n",
       "      <th>1274</th>\n",
       "      <td>60708.496762</td>\n",
       "      <td>17.482445</td>\n",
       "      <td>0.092797</td>\n",
       "      <td>18.406711</td>\n",
       "      <td>g</td>\n",
       "      <td>bs</td>\n",
       "      <td>ASAS-SN</td>\n",
       "    </tr>\n",
       "  </tbody>\n",
       "</table>\n",
       "<p>2512 rows × 7 columns</p>\n",
       "</div>"
      ],
      "text/plain": [
       "               mjd        mag   mag_err      limit filter unit   survey\n",
       "0     60445.386132  13.442000  0.003000  19.350000      o  02a    ATLAS\n",
       "1     60445.386132  13.396000  0.005000  19.350000      o  02a    ATLAS\n",
       "2     60445.389294  13.438000  0.003000  19.390000      o  02a    ATLAS\n",
       "3     60445.389294  13.394000  0.005000  19.390000      o  02a    ATLAS\n",
       "4     60445.396294  13.394000  0.005000  19.330000      o  02a    ATLAS\n",
       "...            ...        ...       ...        ...    ...  ...      ...\n",
       "1269  60652.662725  17.146767  0.182440  17.337075      g   bC  ASAS-SN\n",
       "1270  60672.569723  16.952787  0.060671  18.338434      g   bC  ASAS-SN\n",
       "1272  60697.541289  17.015819  0.076828  18.145123      g   bC  ASAS-SN\n",
       "1273  60700.068149  17.048765  0.099793  17.894120      g   bo  ASAS-SN\n",
       "1274  60708.496762  17.482445  0.092797  18.406711      g   bs  ASAS-SN\n",
       "\n",
       "[2512 rows x 7 columns]"
      ]
     },
     "execution_count": 14,
     "metadata": {},
     "output_type": "execute_result"
    }
   ],
   "source": [
    "pd.concat([lc_df, pd.DataFrame()])\n"
   ]
  },
  {
   "cell_type": "code",
   "execution_count": 18,
   "id": "d85bf080-5510-4001-a08e-3c9c84850ac5",
   "metadata": {},
   "outputs": [
    {
     "name": "stdout",
     "output_type": "stream",
     "text": [
      "Welcome to ASAS-SN Skypatrol!\n",
      "\n",
      "Current Deployment Version: 0.6.17 (26 JAN 2024)\n",
      "Please upgrade your client if not up to date.\n",
      "\n"
     ]
    },
    {
     "data": {
      "text/html": [
       "<div>\n",
       "<style scoped>\n",
       "    .dataframe tbody tr th:only-of-type {\n",
       "        vertical-align: middle;\n",
       "    }\n",
       "\n",
       "    .dataframe tbody tr th {\n",
       "        vertical-align: top;\n",
       "    }\n",
       "\n",
       "    .dataframe thead th {\n",
       "        text-align: right;\n",
       "    }\n",
       "</style>\n",
       "<table border=\"1\" class=\"dataframe\">\n",
       "  <thead>\n",
       "    <tr style=\"text-align: right;\">\n",
       "      <th></th>\n",
       "      <th>asas_sn_id</th>\n",
       "      <th>ra_deg</th>\n",
       "      <th>dec_deg</th>\n",
       "      <th>catalog_sources</th>\n",
       "    </tr>\n",
       "  </thead>\n",
       "  <tbody>\n",
       "  </tbody>\n",
       "</table>\n",
       "</div>"
      ],
      "text/plain": [
       "Empty DataFrame\n",
       "Columns: [asas_sn_id, ra_deg, dec_deg, catalog_sources]\n",
       "Index: []"
      ]
     },
     "execution_count": 18,
     "metadata": {},
     "output_type": "execute_result"
    }
   ],
   "source": [
    "from pyasassn.client import SkyPatrolClient\n",
    "\n",
    "client = SkyPatrolClient()\n",
    "lcs = client.query_list(99999999999999)\n",
    "lcs"
   ]
  },
  {
   "cell_type": "code",
   "execution_count": 19,
   "id": "14610054-4b0f-40ee-8b8b-551ff40ee0f3",
   "metadata": {},
   "outputs": [
    {
     "name": "stdout",
     "output_type": "stream",
     "text": [
      "Downloading Curves...\n",
      "\n"
     ]
    },
    {
     "ename": "ValueError",
     "evalue": "No objects to concatenate",
     "output_type": "error",
     "traceback": [
      "\u001b[31m---------------------------------------------------------------------------\u001b[39m",
      "\u001b[31mValueError\u001b[39m                                Traceback (most recent call last)",
      "\u001b[36mCell\u001b[39m\u001b[36m \u001b[39m\u001b[32mIn[19]\u001b[39m\u001b[32m, line 1\u001b[39m\n\u001b[32m----> \u001b[39m\u001b[32m1\u001b[39m lcs = \u001b[43mclient\u001b[49m\u001b[43m.\u001b[49m\u001b[43mquery_list\u001b[49m\u001b[43m(\u001b[49m\u001b[32;43m99999999999999\u001b[39;49m\u001b[43m,\u001b[49m\u001b[43m \u001b[49m\u001b[43mdownload\u001b[49m\u001b[43m=\u001b[49m\u001b[38;5;28;43;01mTrue\u001b[39;49;00m\u001b[43m)\u001b[49m\n\u001b[32m      2\u001b[39m lcs\n",
      "\u001b[36mFile \u001b[39m\u001b[32m~/repo/venv/lib/python3.12/site-packages/pyasassn/client.py:330\u001b[39m, in \u001b[36mSkyPatrolClient.query_list\u001b[39m\u001b[34m(self, target_ids, id_col, catalog, cols, download, save_dir, file_format, threads)\u001b[39m\n\u001b[32m    327\u001b[39m tar_ids = \u001b[38;5;28mlist\u001b[39m(tar_df[id_col])\n\u001b[32m    329\u001b[39m \u001b[38;5;66;03m# Returns a LightCurveCollection object, or a list of light curve files when save_dir is set\u001b[39;00m\n\u001b[32m--> \u001b[39m\u001b[32m330\u001b[39m \u001b[38;5;28;01mreturn\u001b[39;00m \u001b[38;5;28;43mself\u001b[39;49m\u001b[43m.\u001b[49m\u001b[43m_get_curves\u001b[49m\u001b[43m(\u001b[49m\n\u001b[32m    331\u001b[39m \u001b[43m    \u001b[49m\u001b[43mquery_hash\u001b[49m\u001b[43m,\u001b[49m\u001b[43m \u001b[49m\u001b[43mtar_ids\u001b[49m\u001b[43m,\u001b[49m\u001b[43m \u001b[49m\u001b[43mcatalog\u001b[49m\u001b[43m,\u001b[49m\u001b[43m \u001b[49m\u001b[43msave_dir\u001b[49m\u001b[43m,\u001b[49m\u001b[43m \u001b[49m\u001b[43mfile_format\u001b[49m\u001b[43m,\u001b[49m\u001b[43m \u001b[49m\u001b[43mthreads\u001b[49m\n\u001b[32m    332\u001b[39m \u001b[43m\u001b[49m\u001b[43m)\u001b[49m\n",
      "\u001b[36mFile \u001b[39m\u001b[32m~/repo/venv/lib/python3.12/site-packages/pyasassn/client.py:463\u001b[39m, in \u001b[36mSkyPatrolClient._get_curves\u001b[39m\u001b[34m(self, query_hash, tar_ids, catalog, save_dir, file_format, threads)\u001b[39m\n\u001b[32m    460\u001b[39m     \u001b[38;5;28;01mreturn\u001b[39;00m [file \u001b[38;5;28;01mfor\u001b[39;00m chunk \u001b[38;5;129;01min\u001b[39;00m chunks \u001b[38;5;28;01mfor\u001b[39;00m file \u001b[38;5;129;01min\u001b[39;00m chunk]\n\u001b[32m    461\u001b[39m \u001b[38;5;28;01melse\u001b[39;00m:\n\u001b[32m    462\u001b[39m     \u001b[38;5;66;03m# Return in memory data as LightCurveCollection\u001b[39;00m\n\u001b[32m--> \u001b[39m\u001b[32m463\u001b[39m     data = \u001b[43mpd\u001b[49m\u001b[43m.\u001b[49m\u001b[43mconcat\u001b[49m\u001b[43m(\u001b[49m\u001b[43mchunks\u001b[49m\u001b[43m)\u001b[49m\n\u001b[32m    464\u001b[39m     id_col = \u001b[33m\"\u001b[39m\u001b[33masas_sn_id\u001b[39m\u001b[33m\"\u001b[39m \u001b[38;5;28;01mif\u001b[39;00m catalog \u001b[38;5;129;01mnot\u001b[39;00m \u001b[38;5;129;01min\u001b[39;00m [\u001b[33m\"\u001b[39m\u001b[33masteroids\u001b[39m\u001b[33m\"\u001b[39m, \u001b[33m\"\u001b[39m\u001b[33mcomets\u001b[39m\u001b[33m\"\u001b[39m] \u001b[38;5;28;01melse\u001b[39;00m \u001b[33m\"\u001b[39m\u001b[33mname\u001b[39m\u001b[33m\"\u001b[39m\n\u001b[32m    465\u001b[39m     \u001b[38;5;28;01mreturn\u001b[39;00m LightCurveCollection(data, \u001b[38;5;28mself\u001b[39m.index, id_col)\n",
      "\u001b[36mFile \u001b[39m\u001b[32m~/repo/venv/lib/python3.12/site-packages/pandas/core/reshape/concat.py:382\u001b[39m, in \u001b[36mconcat\u001b[39m\u001b[34m(objs, axis, join, ignore_index, keys, levels, names, verify_integrity, sort, copy)\u001b[39m\n\u001b[32m    379\u001b[39m \u001b[38;5;28;01melif\u001b[39;00m copy \u001b[38;5;129;01mand\u001b[39;00m using_copy_on_write():\n\u001b[32m    380\u001b[39m     copy = \u001b[38;5;28;01mFalse\u001b[39;00m\n\u001b[32m--> \u001b[39m\u001b[32m382\u001b[39m op = \u001b[43m_Concatenator\u001b[49m\u001b[43m(\u001b[49m\n\u001b[32m    383\u001b[39m \u001b[43m    \u001b[49m\u001b[43mobjs\u001b[49m\u001b[43m,\u001b[49m\n\u001b[32m    384\u001b[39m \u001b[43m    \u001b[49m\u001b[43maxis\u001b[49m\u001b[43m=\u001b[49m\u001b[43maxis\u001b[49m\u001b[43m,\u001b[49m\n\u001b[32m    385\u001b[39m \u001b[43m    \u001b[49m\u001b[43mignore_index\u001b[49m\u001b[43m=\u001b[49m\u001b[43mignore_index\u001b[49m\u001b[43m,\u001b[49m\n\u001b[32m    386\u001b[39m \u001b[43m    \u001b[49m\u001b[43mjoin\u001b[49m\u001b[43m=\u001b[49m\u001b[43mjoin\u001b[49m\u001b[43m,\u001b[49m\n\u001b[32m    387\u001b[39m \u001b[43m    \u001b[49m\u001b[43mkeys\u001b[49m\u001b[43m=\u001b[49m\u001b[43mkeys\u001b[49m\u001b[43m,\u001b[49m\n\u001b[32m    388\u001b[39m \u001b[43m    \u001b[49m\u001b[43mlevels\u001b[49m\u001b[43m=\u001b[49m\u001b[43mlevels\u001b[49m\u001b[43m,\u001b[49m\n\u001b[32m    389\u001b[39m \u001b[43m    \u001b[49m\u001b[43mnames\u001b[49m\u001b[43m=\u001b[49m\u001b[43mnames\u001b[49m\u001b[43m,\u001b[49m\n\u001b[32m    390\u001b[39m \u001b[43m    \u001b[49m\u001b[43mverify_integrity\u001b[49m\u001b[43m=\u001b[49m\u001b[43mverify_integrity\u001b[49m\u001b[43m,\u001b[49m\n\u001b[32m    391\u001b[39m \u001b[43m    \u001b[49m\u001b[43mcopy\u001b[49m\u001b[43m=\u001b[49m\u001b[43mcopy\u001b[49m\u001b[43m,\u001b[49m\n\u001b[32m    392\u001b[39m \u001b[43m    \u001b[49m\u001b[43msort\u001b[49m\u001b[43m=\u001b[49m\u001b[43msort\u001b[49m\u001b[43m,\u001b[49m\n\u001b[32m    393\u001b[39m \u001b[43m\u001b[49m\u001b[43m)\u001b[49m\n\u001b[32m    395\u001b[39m \u001b[38;5;28;01mreturn\u001b[39;00m op.get_result()\n",
      "\u001b[36mFile \u001b[39m\u001b[32m~/repo/venv/lib/python3.12/site-packages/pandas/core/reshape/concat.py:445\u001b[39m, in \u001b[36m_Concatenator.__init__\u001b[39m\u001b[34m(self, objs, axis, join, keys, levels, names, ignore_index, verify_integrity, copy, sort)\u001b[39m\n\u001b[32m    442\u001b[39m \u001b[38;5;28mself\u001b[39m.verify_integrity = verify_integrity\n\u001b[32m    443\u001b[39m \u001b[38;5;28mself\u001b[39m.copy = copy\n\u001b[32m--> \u001b[39m\u001b[32m445\u001b[39m objs, keys = \u001b[38;5;28;43mself\u001b[39;49m\u001b[43m.\u001b[49m\u001b[43m_clean_keys_and_objs\u001b[49m\u001b[43m(\u001b[49m\u001b[43mobjs\u001b[49m\u001b[43m,\u001b[49m\u001b[43m \u001b[49m\u001b[43mkeys\u001b[49m\u001b[43m)\u001b[49m\n\u001b[32m    447\u001b[39m \u001b[38;5;66;03m# figure out what our result ndim is going to be\u001b[39;00m\n\u001b[32m    448\u001b[39m ndims = \u001b[38;5;28mself\u001b[39m._get_ndims(objs)\n",
      "\u001b[36mFile \u001b[39m\u001b[32m~/repo/venv/lib/python3.12/site-packages/pandas/core/reshape/concat.py:507\u001b[39m, in \u001b[36m_Concatenator._clean_keys_and_objs\u001b[39m\u001b[34m(self, objs, keys)\u001b[39m\n\u001b[32m    504\u001b[39m     objs_list = \u001b[38;5;28mlist\u001b[39m(objs)\n\u001b[32m    506\u001b[39m \u001b[38;5;28;01mif\u001b[39;00m \u001b[38;5;28mlen\u001b[39m(objs_list) == \u001b[32m0\u001b[39m:\n\u001b[32m--> \u001b[39m\u001b[32m507\u001b[39m     \u001b[38;5;28;01mraise\u001b[39;00m \u001b[38;5;167;01mValueError\u001b[39;00m(\u001b[33m\"\u001b[39m\u001b[33mNo objects to concatenate\u001b[39m\u001b[33m\"\u001b[39m)\n\u001b[32m    509\u001b[39m \u001b[38;5;28;01mif\u001b[39;00m keys \u001b[38;5;129;01mis\u001b[39;00m \u001b[38;5;28;01mNone\u001b[39;00m:\n\u001b[32m    510\u001b[39m     objs_list = \u001b[38;5;28mlist\u001b[39m(com.not_none(*objs_list))\n",
      "\u001b[31mValueError\u001b[39m: No objects to concatenate"
     ]
    }
   ],
   "source": [
    "lcs = client.query_list(99999999999999, download=True)\n",
    "lcs"
   ]
  }
 ],
 "metadata": {
  "kernelspec": {
   "display_name": "repo_kernel",
   "language": "python",
   "name": "repo_kernel"
  },
  "language_info": {
   "codemirror_mode": {
    "name": "ipython",
    "version": 3
   },
   "file_extension": ".py",
   "mimetype": "text/x-python",
   "name": "python",
   "nbconvert_exporter": "python",
   "pygments_lexer": "ipython3",
   "version": "3.12.3"
  }
 },
 "nbformat": 4,
 "nbformat_minor": 5
}
